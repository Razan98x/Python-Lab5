{
 "cells": [
  {
   "cell_type": "code",
   "execution_count": 18,
   "id": "0d076a9b",
   "metadata": {},
   "outputs": [
    {
     "name": "stdout",
     "output_type": "stream",
     "text": [
      "sum =  139\n",
      "largest =  45\n"
     ]
    }
   ],
   "source": [
    "ls = [5, 4, 17, 19, 30, 2, 7, 10, 45]\n",
    "print(\"sum = \",sum(ls))\n",
    "print(\"largest = \", max(ls))"
   ]
  },
  {
   "cell_type": "code",
   "execution_count": 9,
   "id": "0d851eb0",
   "metadata": {},
   "outputs": [
    {
     "name": "stdout",
     "output_type": "stream",
     "text": [
      "[4, 30, 2, 10]\n"
     ]
    }
   ],
   "source": [
    "# with list comprehension\n",
    "ls = [5, 4, 17, 19, 30, 2, 7, 10, 45] \n",
    "new_ls =[i for i in ls if i %2 == 0]\n",
    "print(new_ls)"
   ]
  },
  {
   "cell_type": "code",
   "execution_count": 15,
   "id": "f92015d4",
   "metadata": {},
   "outputs": [
    {
     "name": "stdout",
     "output_type": "stream",
     "text": [
      "[5, 4, 17, 19, 30]\n"
     ]
    }
   ],
   "source": [
    "print(ls[:5])"
   ]
  }
 ],
 "metadata": {
  "kernelspec": {
   "display_name": "Python 3 (ipykernel)",
   "language": "python",
   "name": "python3"
  },
  "language_info": {
   "codemirror_mode": {
    "name": "ipython",
    "version": 3
   },
   "file_extension": ".py",
   "mimetype": "text/x-python",
   "name": "python",
   "nbconvert_exporter": "python",
   "pygments_lexer": "ipython3",
   "version": "3.9.13"
  }
 },
 "nbformat": 4,
 "nbformat_minor": 5
}
