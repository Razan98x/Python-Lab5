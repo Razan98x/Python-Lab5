{
 "cells": [
  {
   "cell_type": "code",
   "execution_count": 27,
   "id": "49f111f8",
   "metadata": {},
   "outputs": [
    {
     "name": "stdout",
     "output_type": "stream",
     "text": [
      "sum =  139\n"
     ]
    }
   ],
   "source": [
    "ls = [5, 4, 17, 19, 30, 2, 7, 10, 45]\n",
    "sum=0\n",
    "for i in ls:\n",
    "    sum+=i\n",
    "    \n",
    "print(\"sum = \",sum)"
   ]
  },
  {
   "cell_type": "code",
   "execution_count": 8,
   "id": "4875bed0",
   "metadata": {},
   "outputs": [
    {
     "name": "stdout",
     "output_type": "stream",
     "text": [
      "largest = 45\n"
     ]
    }
   ],
   "source": [
    "ls = [5, 4, 17, 19, 30, 2, 7, 10, 45]\n",
    "max= ls[0]\n",
    "for i in ls:\n",
    "    if i > max:\n",
    "        max=i\n",
    "print('largest =',max)"
   ]
  },
  {
   "cell_type": "code",
   "execution_count": 9,
   "id": "0d851eb0",
   "metadata": {},
   "outputs": [
    {
     "name": "stdout",
     "output_type": "stream",
     "text": [
      "[4, 30, 2, 10]\n"
     ]
    }
   ],
   "source": [
    "# with list comprehension\n",
    "ls = [5, 4, 17, 19, 30, 2, 7, 10, 45] \n",
    "new_ls =[i for i in ls if i %2 == 0]\n",
    "print(new_ls)"
   ]
  },
  {
   "cell_type": "code",
   "execution_count": 15,
   "id": "f92015d4",
   "metadata": {},
   "outputs": [
    {
     "name": "stdout",
     "output_type": "stream",
     "text": [
      "[5, 4, 17, 19, 30]\n"
     ]
    }
   ],
   "source": [
    "print(ls[:5])"
   ]
  }
 ],
 "metadata": {
  "kernelspec": {
   "display_name": "Python 3 (ipykernel)",
   "language": "python",
   "name": "python3"
  },
  "language_info": {
   "codemirror_mode": {
    "name": "ipython",
    "version": 3
   },
   "file_extension": ".py",
   "mimetype": "text/x-python",
   "name": "python",
   "nbconvert_exporter": "python",
   "pygments_lexer": "ipython3",
   "version": "3.9.13"
  }
 },
 "nbformat": 4,
 "nbformat_minor": 5
}
